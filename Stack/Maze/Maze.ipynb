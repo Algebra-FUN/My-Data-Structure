{
 "cells": [
  {
   "cell_type": "code",
   "execution_count": 41,
   "metadata": {},
   "outputs": [],
   "source": [
    "Σ = [\r\n",
    "    1 1 1 1 1 1 1 1 1 1;\r\n",
    "    1 0 0 1 0 0 0 1 0 1;\r\n",
    "    1 0 0 1 0 0 0 1 0 1;\r\n",
    "    1 0 0 0 0 1 1 0 0 1;\r\n",
    "    1 0 1 1 1 0 0 0 0 1;\r\n",
    "    1 0 0 0 1 0 0 0 0 1;\r\n",
    "    1 0 1 0 0 0 1 0 0 1;\r\n",
    "    1 0 1 1 1 0 1 1 0 1;\r\n",
    "    1 1 0 0 0 0 0 0 0 1;\r\n",
    "    1 1 1 1 1 1 1 1 1 1;\r\n",
    "];"
   ]
  },
  {
   "cell_type": "code",
   "execution_count": 34,
   "metadata": {},
   "outputs": [
    {
     "data": {
      "text/plain": "route (generic function with 1 method)"
     },
     "execution_count": 34,
     "metadata": {},
     "output_type": "execute_result"
    }
   ],
   "source": [
    "Δ = [[-1, 0], [0, 1], [1, 0], [0, -1]]\r\n",
    "ℬ(p,ϵ) = [p + δ*ϵ for δ ∈ Δ]\r\n",
    "\r\n",
    "function route(α, β)\r\n",
    "    Γ = [α]\r\n",
    "    Γs = []\r\n",
    "    function go()\r\n",
    "        p = Γ[end]\r\n",
    "        if p == β\r\n",
    "            return true\r\n",
    "        end\r\n",
    "        for p ∈ ℬ(p,1)\r\n",
    "            x, y = p\r\n",
    "            if Σ[x,y] == 0 && p ∉ Γ\r\n",
    "                Γ = [Γ;[p]]\r\n",
    "                push!(Γs,Γ)\r\n",
    "                if go()\r\n",
    "                    return true\r\n",
    "                end\r\n",
    "                Γ = Γ[1:end-1]\r\n",
    "            end\r\n",
    "        end\r\n",
    "        return false\r\n",
    "    end \r\n",
    "    go()\r\n",
    "    return Γ,Γs\r\n",
    "end"
   ]
  },
  {
   "cell_type": "code",
   "execution_count": 29,
   "metadata": {},
   "outputs": [
    {
     "data": {
      "text/plain": "route2map (generic function with 1 method)"
     },
     "execution_count": 29,
     "metadata": {},
     "output_type": "execute_result"
    }
   ],
   "source": [
    "function route2map(Γ)\r\n",
    "    Σ₁ = deepcopy(Σ)\r\n",
    "    for p ∈ Γ\r\n",
    "        x,y = p\r\n",
    "        Σ₁[x,y] = -1\r\n",
    "    end\r\n",
    "    return Σ₁\r\n",
    "end"
   ]
  },
  {
   "cell_type": "code",
   "execution_count": 36,
   "metadata": {},
   "outputs": [],
   "source": [
    "α = [2,2]\r\n",
    "β = [9,9]\r\n",
    "_,routes = route(α, β);"
   ]
  },
  {
   "cell_type": "code",
   "execution_count": 37,
   "metadata": {},
   "outputs": [],
   "source": [
    "maps = map(route2map,routes);"
   ]
  },
  {
   "cell_type": "code",
   "execution_count": 32,
   "metadata": {},
   "outputs": [
    {
     "data": {
      "text/plain": "Plots.GRBackend()"
     },
     "execution_count": 32,
     "metadata": {},
     "output_type": "execute_result"
    }
   ],
   "source": [
    "using Plots\r\n",
    "gr()"
   ]
  },
  {
   "cell_type": "code",
   "execution_count": 51,
   "metadata": {},
   "outputs": [
    {
     "name": "stderr",
     "output_type": "stream",
     "text": [
      "┌ Info: Saved animation to \n",
      "│   fn = c:\\Users\\CreatorFan\\Documents\\Course\\Data Structure\\Stack\\Maze\\tmp.gif\n",
      "└ @ Plots C:\\Users\\CreatorFan\\.julia\\packages\\Plots\\kyYZF\\src\\animation.jl:104\n"
     ]
    },
    {
     "data": {
      "text/html": "<img src=\"data:image/gif;base64,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\" />",
      "text/plain": "Plots.AnimatedGif(\"c:\\\\Users\\\\CreatorFan\\\\Documents\\\\Course\\\\Data Structure\\\\Stack\\\\Maze\\\\tmp.gif\")"
     },
     "execution_count": 51,
     "metadata": {},
     "output_type": "execute_result"
    }
   ],
   "source": [
    "@gif for γ ∈ maps\r\n",
    "    heatmap(γ,yflip = true,c = :viridiss)\r\n",
    "end"
   ]
  }
 ],
 "metadata": {
  "kernelspec": {
   "display_name": "Julia",
   "language": "julia",
   "name": "julia-1.6"
  },
  "language_info": {
   "file_extension": ".jl",
   "mimetype": "application/julia",
   "name": "julia",
   "version": "1.6.0"
  },
  "orig_nbformat": 2
 },
 "nbformat": 4,
 "nbformat_minor": 2
}